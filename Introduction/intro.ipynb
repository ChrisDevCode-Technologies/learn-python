{
 "cells": [
  {
   "cell_type": "markdown",
   "metadata": {},
   "source": [
    "In Python, variables are names attached to particular objects, and you do not need to declare them before use, nor declare their type. Python supports several data types, which include:\n",
    "\n",
    "1. **Integers** (`int`): Whole numbers like `3`, `-1`, etc.\n",
    "2. **Floating Point Numbers** (`float`): Numbers with a decimal point like `3.14`, `-0.001`.\n",
    "3. **Strings** (`str`): Sequences of characters like `\"hello\"`, `'Python'`.\n",
    "4. **Booleans** (`bool`): Represents `True` or `False`.\n",
    "5. **Lists** (`list`): Ordered collections, e.g., `[1, 2, 3]`.\n",
    "6. **Tuples** (`tuple`): Immutable ordered collections, e.g., `(1, 2, 3)`.\n",
    "7. **Dictionaries** (`dict`): Key-value pairs, e.g., `{'key': 'value'}`.\n",
    "8. **Sets** (`set`): Unordered collections of unique elements, e.g., `{1, 2, 3}`.\n",
    "\n",
    "Each type comes with its own set of methods and operations. For deeper understanding, including handling and operations of each type, online tutorials, documentation, and resources such as Python's official documentation, tutorials like [Real Python](https://realpython.com/), or interactive platforms like [Python.org](https://www.python.org/doc/essays/blurb/) are highly recommended."
   ]
  }
 ],
 "metadata": {
  "language_info": {
   "name": "python"
  }
 },
 "nbformat": 4,
 "nbformat_minor": 2
}
