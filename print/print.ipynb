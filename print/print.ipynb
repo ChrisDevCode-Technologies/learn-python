{
 "cells": [
  {
   "cell_type": "markdown",
   "metadata": {},
   "source": [
    "# print\n",
    "\n",
    "The print function allows you to send output to the terminal\n",
    "\n",
    "- [print](https://docs.python.org/3/library/functions.html#print)\n",
    "\n",
    "Strings can be enclosed in single quotes or double quotes\n",
    "\n",
    "- \"this is a string\"\n",
    "- 'this is also a string'\n",
    "\n",
    "The input function allows you to prompt a user for a value\n",
    "\n",
    "- [input](https://docs.python.org/3/library/functions.html#input)\n",
    "  \n",
    "Parameters:\n",
    "\n",
    "- `prompt`: Message to display to the user  \n",
    "\n",
    "return value:\n",
    "\n",
    "- string value containing value entered by user"
   ]
  },
  {
   "cell_type": "code",
   "execution_count": 2,
   "metadata": {},
   "outputs": [
    {
     "name": "stdout",
     "output_type": "stream",
     "text": [
      "Hello World!\n"
     ]
    }
   ],
   "source": [
    "# the print statement displays a message \n",
    "print(\"Hello World!\")"
   ]
  },
  {
   "cell_type": "code",
   "execution_count": 3,
   "metadata": {},
   "outputs": [
    {
     "name": "stdout",
     "output_type": "stream",
     "text": [
      "Hello world single quotes\n",
      "Hello world double quotes\n"
     ]
    }
   ],
   "source": [
    "# Strings can be enclosed in single quotes\n",
    "print('Hello world single quotes')\n",
    "\n",
    "# Strings can also be enclosed in double quotes\n",
    "print(\"Hello world double quotes\")"
   ]
  },
  {
   "cell_type": "code",
   "execution_count": 4,
   "metadata": {},
   "outputs": [
    {
     "name": "stdout",
     "output_type": "stream",
     "text": [
      "Hello world\n",
      "\n",
      "Did you see that blank line?\n",
      "Blank line \n",
      "in the middle of string\n"
     ]
    }
   ],
   "source": [
    "# Each print statements starts on a new line\n",
    "print('Hello world')\n",
    "\n",
    "# If you pass nothing to the print statement you get a blank line\n",
    "print()\n",
    "print('Did you see that blank line?')\n",
    "\n",
    "# '\\n' is a special character sequence that means print new line\n",
    "# you can use it to break the output over multiple lines\n",
    "print('Blank line \\nin the middle of string')"
   ]
  },
  {
   "cell_type": "code",
   "execution_count": 5,
   "metadata": {},
   "outputs": [
    {
     "name": "stdout",
     "output_type": "stream",
     "text": [
      "Chris Achinga\n"
     ]
    }
   ],
   "source": [
    "# The input funciton allows you to prompt the user for a value\n",
    "# You need to declare a variable to hold the value entered by the user\n",
    "name = input('What is your name? ')\n",
    "\n",
    "print(name)"
   ]
  }
 ],
 "metadata": {
  "kernelspec": {
   "display_name": "learn-python",
   "language": "python",
   "name": "python3"
  },
  "language_info": {
   "codemirror_mode": {
    "name": "ipython",
    "version": 3
   },
   "file_extension": ".py",
   "mimetype": "text/x-python",
   "name": "python",
   "nbconvert_exporter": "python",
   "pygments_lexer": "ipython3",
   "version": "3.10.14"
  }
 },
 "nbformat": 4,
 "nbformat_minor": 2
}
